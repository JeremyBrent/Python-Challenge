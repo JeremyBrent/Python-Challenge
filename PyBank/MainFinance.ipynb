{
 "cells": [
  {
   "cell_type": "code",
   "execution_count": 90,
   "metadata": {},
   "outputs": [],
   "source": [
    "import os \n",
    "import csv"
   ]
  },
  {
   "cell_type": "code",
   "execution_count": 91,
   "metadata": {},
   "outputs": [],
   "source": [
    "csvpath = os.path.join('Resources', 'budget_data.csv')"
   ]
  },
  {
   "cell_type": "code",
   "execution_count": 98,
   "metadata": {},
   "outputs": [],
   "source": [
    "months = 0\n",
    "totalprofitsloss = 0\n",
    "maxprofit = 0\n",
    "minprofit = 0\n",
    "revenuechangelist = []\n",
    "\n",
    "\n",
    "\n",
    "with open (csvpath) as csvfile:\n",
    "   \n",
    "    csvreader = csv.reader(csvfile, delimiter = \",\")\n",
    "    csvheader = next(csvreader)\n",
    "    #previousrevenue = int(next(csvreader)[1])\n",
    "\n",
    "    #print(csvheader)\n",
    "    for row in csvreader:\n",
    "        #finding total months\n",
    "        months += 1\n",
    "        #finding the net profit/loss\n",
    "        totalprofitsloss += int(row[1])\n",
    "        #finding the average revenue change \n",
    "        revenuechange = int(row[1]) - int(previousrevenue)\n",
    "        previousrevenue = int(row[1])\n",
    "        revenuechangelist += [revenuechange]\n",
    "        #finding greatest increase in revenue\n",
    "        if int(row[1]) > maxprofit:\n",
    "            maxprofit = int(row[1]) + previousrevenue\n",
    "            maxmonth = row[0]\n",
    "        #finding min profit\n",
    "        if int(row[1]) < minprofit:\n",
    "            minprofit = int(row[1]) + previousrevenue\n",
    "            minmonth = row[0]\n",
    "    \n",
    "    revenueaverage = sum(revenuechangelist) / len(revenuechangelist)\n",
    "        "
   ]
  },
  {
   "cell_type": "code",
   "execution_count": 99,
   "metadata": {},
   "outputs": [
    {
     "name": "stdout",
     "output_type": "stream",
     "text": [
      "Financial Analysis\n",
      "----------------------------\n",
      "Total Months: 86\n",
      "Total Profit/Loss: $38,382,578\n",
      "Average Change: $0.0\n",
      "Greatest Profit: (Jan-2010) 1,735,768\n",
      "Greatest Loss: (Jan-2012) -1,511,132\n"
     ]
    }
   ],
   "source": [
    "print('Financial Analysis')\n",
    "print('----------------------------')\n",
    "print(f'Total Months: {months}')\n",
    "print(f'Total Profit/Loss: ${totalprofitsloss:,}')\n",
    "print(f'Average Change: ${revenueaverage:,}')\n",
    "print(f'Greatest Profit: ({maxmonth}) {maxprofit:,}')\n",
    "print(f'Greatest Loss: ({minmonth}) {minprofit:,}')"
   ]
  },
  {
   "cell_type": "code",
   "execution_count": null,
   "metadata": {},
   "outputs": [],
   "source": [
    "#  Financial Analysis\n",
    "#   ----------------------------\n",
    "#   Total Months: 86\n",
    "#   Total: $38382578\n",
    "#   Average  Change: $-2315.12\n",
    "#   Greatest Increase in Profits: Feb-2012 ($1926159)\n",
    "#   Greatest Decrease in Profits: Sep-2013 ($-2196167)"
   ]
  }
 ],
 "metadata": {
  "kernelspec": {
   "display_name": "Python 3",
   "language": "python",
   "name": "python3"
  },
  "language_info": {
   "codemirror_mode": {
    "name": "ipython",
    "version": 3
   },
   "file_extension": ".py",
   "mimetype": "text/x-python",
   "name": "python",
   "nbconvert_exporter": "python",
   "pygments_lexer": "ipython3",
   "version": "3.6.10"
  }
 },
 "nbformat": 4,
 "nbformat_minor": 4
}
