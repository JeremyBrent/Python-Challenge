{
 "cells": [
  {
   "cell_type": "code",
   "execution_count": 1,
   "metadata": {},
   "outputs": [],
   "source": [
    "import os \n",
    "import csv"
   ]
  },
  {
   "cell_type": "code",
   "execution_count": 2,
   "metadata": {},
   "outputs": [],
   "source": [
    "csvpath = os.path.join('Resources', 'budget_data.csv')"
   ]
  },
  {
   "cell_type": "code",
   "execution_count": 3,
   "metadata": {},
   "outputs": [],
   "source": [
    "months = 0\n",
    "totalprofitsloss = 0\n",
    "maxprofit = 0\n",
    "minprofit = 0\n",
    "previousrevenue = 0\n",
    "revenuechangelist = []\n",
    "\n",
    "with open (csvpath) as csvfile:\n",
    "    csvreader = csv.reader(csvfile, delimiter = \",\")\n",
    "    csvheader = next(csvreader)\n",
    "    for row in csvreader:\n",
    "        #finding total months\n",
    "        months += 1\n",
    "        #finding the net profit/loss\n",
    "        totalprofitsloss += int(row[1])\n",
    "        #finding greatest increase in revenue\n",
    "        if int(row[1]) > maxprofit:\n",
    "            maxprofit = int(row[1]) - previousrevenue\n",
    "            maxmonth = row[0]\n",
    "        #finding min profit\n",
    "        if int(row[1]) < minprofit:\n",
    "            minprofit = int(row[1]) - previousrevenue\n",
    "            minmonth = row[0]\n",
    "        #finding the average revenue change \n",
    "        revenuechange = int(row[1]) - previousrevenue\n",
    "        previousrevenue = int(row[1])\n",
    "        revenuechangelist += [revenuechange]\n",
    "    #popping first index with a value of row[1] from first row     \n",
    "    revenuechangelist.pop(0)\n",
    "    #finding the average revenue change \n",
    "    revenueaverage = sum(revenuechangelist) / len(revenuechangelist)\n",
    "    \n",
    "output = open('output.txt', 'w')\n",
    "\n",
    "output.write(f'Financial Analysis \\n---------------------------- \\nTotal Months: {months} \\nTotal Profit/Loss: ${totalprofitsloss:,} \\nAverage Change: ${revenueaverage:,.6} \\nGreatest Increase in Profit: ({maxmonth}) ${maxprofit:,} \\nGreatest Decrease in Profit: ({minmonth}) ${minprofit:,}')\n",
    "\n",
    "output.close()"
   ]
  },
  {
   "cell_type": "code",
   "execution_count": 4,
   "metadata": {},
   "outputs": [
    {
     "name": "stdout",
     "output_type": "stream",
     "text": [
      "Financial Analysis\n",
      "----------------------------\n",
      "Total Months: 86\n",
      "Total Profit/Loss: $38,382,578\n",
      "Average Change: $-2,315.12\n",
      "Greatest Increase in Profit: (Feb-2012) $1,926,159\n",
      "Greatest Decrease in Profit: (Sep-2013) $-2,196,167\n"
     ]
    }
   ],
   "source": [
    "print('Financial Analysis')\n",
    "print('----------------------------')\n",
    "print(f'Total Months: {months}')\n",
    "print(f'Total Profit/Loss: ${totalprofitsloss:,}')\n",
    "print(f'Average Change: ${revenueaverage:,.6}')\n",
    "print(f'Greatest Increase in Profit: ({maxmonth}) ${maxprofit:,}')\n",
    "print(f'Greatest Decrease in Profit: ({minmonth}) ${minprofit:,}')"
   ]
  },
  {
   "cell_type": "code",
   "execution_count": null,
   "metadata": {},
   "outputs": [],
   "source": []
  },
  {
   "cell_type": "code",
   "execution_count": null,
   "metadata": {},
   "outputs": [],
   "source": []
  }
 ],
 "metadata": {
  "kernelspec": {
   "display_name": "Python 3",
   "language": "python",
   "name": "python3"
  },
  "language_info": {
   "codemirror_mode": {
    "name": "ipython",
    "version": 3
   },
   "file_extension": ".py",
   "mimetype": "text/x-python",
   "name": "python",
   "nbconvert_exporter": "python",
   "pygments_lexer": "ipython3",
   "version": "3.6.10"
  }
 },
 "nbformat": 4,
 "nbformat_minor": 4
}
