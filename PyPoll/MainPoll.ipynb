{
 "cells": [
  {
   "cell_type": "code",
   "execution_count": 2,
   "metadata": {},
   "outputs": [],
   "source": [
    "import os\n",
    "import csv"
   ]
  },
  {
   "cell_type": "code",
   "execution_count": 3,
   "metadata": {},
   "outputs": [],
   "source": [
    "csvpath = os.path.join('Resources', 'election_data.csv')"
   ]
  },
  {
   "cell_type": "code",
   "execution_count": 5,
   "metadata": {},
   "outputs": [],
   "source": [
    "totalvotes = 0\n",
    "candidates = []\n",
    "khanvotes = 0\n",
    "correyvotes = 0\n",
    "livotes = 0 \n",
    "toolvotes = 0\n",
    "\n",
    "with open (csvpath) as csvfile:\n",
    "    csvreader = csv.reader(csvfile, delimiter = \",\")\n",
    "    csvheader = next(csvreader)\n",
    "    #print(csvheader)\n",
    "    for row in csvreader:\n",
    "        #Count the total votes casted\n",
    "        totalvotes += 1\n",
    "        #Create a list of all the candidates\n",
    "        if row[2] not in candidates:\n",
    "            candidates.append(row[2])\n",
    "            #print(candidates)\n",
    "        #Khan votes   \n",
    "        if row[2] == \"Khan\":\n",
    "            khanvotes += 1\n",
    "            percentagekhan = khanvotes / totalvotes\n",
    "        #Correy votes\n",
    "        elif row[2] == \"Correy\":\n",
    "            correyvotes += 1\n",
    "            percentagecorrey = correyvotes / totalvotes\n",
    "        #Li votes\n",
    "        elif row[2] == \"Li\":\n",
    "            livotes += 1\n",
    "            percentageli = livotes / totalvotes\n",
    "        #O'Tooley votes\n",
    "        else:\n",
    "            toolvotes += 1\n",
    "            percentagetool = toolvotes / totalvotes\n",
    "        \n",
    "#If Khan wins           \n",
    "if khanvotes > correyvotes and correyvotes > livotes and livotes > toolvotes:\n",
    "    winner = \"Khan\"\n",
    "#If Correy wins\n",
    "elif correyvotes > khanvotes and khanvotes > livotes and livotes > toolvotes:\n",
    "    winner = \"Correy\"\n",
    "#If Li Wins\n",
    "elif livotes > khanvotes and khanvotes > correyvotes and correyvotes > toolvotes:\n",
    "    winner = \"Li\"\n",
    "#If O'Tooley wins\n",
    "else:\n",
    "    winner = \"O'Tooley\"\n",
    "\n",
    "output = open(\"Output.txt\", \"w\")\n",
    "output.write(f\"Election Results \\n------------------------- \\nTotal Votes: {totalvotes:,} \\n------------------------- \\nKhan: {percentagekhan:.2%}({khanvotes:,}) \\nCorrey: {percentagecorrey:.2%}({correyvotes:,}) \\nLi: {percentageli:.2%}({livotes:,}) \\nO'Tooley: {percentagetool:.2%}({toolvotes:,}) \\n------------------------- \\nWinner: {winner} \\n-------------------------\")\n",
    "output.close()\n"
   ]
  },
  {
   "cell_type": "code",
   "execution_count": 6,
   "metadata": {},
   "outputs": [
    {
     "name": "stdout",
     "output_type": "stream",
     "text": [
      "Election Results\n",
      "-------------------------\n",
      "Total Votes: 3,521,001\n",
      "-------------------------\n",
      "Khan: 63.00%(2,218,231)\n",
      "Correy: 20.00%(704,200)\n",
      "Li: 14.00%(492,940)\n",
      "O'Tooley: 3.00%(105,630)\n",
      "-------------------------\n",
      "Winner: Khan\n",
      "-------------------------\n"
     ]
    }
   ],
   "source": [
    "print(\"Election Results\")\n",
    "print(\"-------------------------\")\n",
    "print(f'Total Votes: {totalvotes:,}')\n",
    "print(\"-------------------------\")\n",
    "print(f'Khan: {percentagekhan:.2%}({khanvotes:,})')\n",
    "print(f'Correy: {percentagecorrey:.2%}({correyvotes:,})')\n",
    "print(f'Li: {percentageli:.2%}({livotes:,})')\n",
    "print(f\"O'Tooley: {percentagetool:.2%}({toolvotes:,})\")\n",
    "print(\"-------------------------\")\n",
    "print(f'Winner: {winner}')\n",
    "print(\"-------------------------\")"
   ]
  },
  {
   "cell_type": "code",
   "execution_count": null,
   "metadata": {},
   "outputs": [],
   "source": []
  }
 ],
 "metadata": {
  "kernelspec": {
   "display_name": "Python 3",
   "language": "python",
   "name": "python3"
  },
  "language_info": {
   "codemirror_mode": {
    "name": "ipython",
    "version": 3
   },
   "file_extension": ".py",
   "mimetype": "text/x-python",
   "name": "python",
   "nbconvert_exporter": "python",
   "pygments_lexer": "ipython3",
   "version": "3.6.10"
  }
 },
 "nbformat": 4,
 "nbformat_minor": 4
}
